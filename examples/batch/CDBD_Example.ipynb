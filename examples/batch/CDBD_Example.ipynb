{
 "cells": [
  {
   "cell_type": "markdown",
   "metadata": {},
   "source": [
    "Confidence Distribution Batch Detection (CDBD) Example\n",
    "\n",
    "This file details how to setup, run, and produce plots for CDBD. This script\n",
    "monitors the feature \"confidence\", simulated confidence scores output by a\n",
    "classifier. Drift occurs in 2018 and persists through 2021. See\n",
    "src/menelaus/tools/artifacts/README_example_data.txt for more info.\n",
    "It additionally contains an example of using a custom divergence function. \n",
    "\n",
    "CDBD must be setup and run with batches of data containing 1 variable. \n",
    "\n",
    "Plots include: \n",
    "- A line plot visualizing test statistics for detection of drift"
   ]
  },
  {
   "cell_type": "code",
   "execution_count": 2,
   "metadata": {},
   "outputs": [],
   "source": [
    "import os\n",
    "import numpy as np\n",
    "import pandas as pd\n",
    "import seaborn as sns\n",
    "import matplotlib.pyplot as plt\n",
    "\n",
    "from menelaus.data_drift.cdbd import CDBD\n",
    "from menelaus.datasets import make_example_batch_data\n",
    "\n",
    "\n",
    "## Setup ##\n",
    "\n",
    "# Import data\n",
    "data = make_example_batch_data()\n",
    "\n",
    "# Set up reference and test batches, using 2007 as reference year\n",
    "reference = pd.DataFrame(data[data.year == 2007].loc[:, \"confidence\"])\n",
    "all_test = data[data.year != 2007]\n",
    "\n",
    "# Setup CDBD\n",
    "np.random.seed(1)\n",
    "cdbd = CDBD(subsets=8)\n",
    "\n",
    "# Store drift for test statistic plot\n",
    "years = all_test.year.unique()\n",
    "detected_drift = []\n",
    "\n",
    "# Run CDBD\n",
    "cdbd.set_reference(reference)\n",
    "for year, subset_data in all_test.groupby(\"year\"):\n",
    "    cdbd.update(pd.DataFrame(subset_data.loc[:, \"confidence\"]))\n",
    "    detected_drift.append(cdbd.drift_state)\n"
   ]
  },
  {
   "cell_type": "code",
   "execution_count": null,
   "metadata": {},
   "outputs": [],
   "source": [
    "\n",
    "\n",
    "## Plot Line Graph ##\n",
    "\n",
    "\n",
    "kl_divergence = [\n",
    "    ep - th for ep, th in zip(cdbd.epsilon_values.values(), cdbd.thresholds.values())\n",
    "]\n",
    "\n",
    "plot_data = pd.DataFrame(\n",
    "    {\"Year\": years, \"KL Divergence\": kl_divergence, \"Detected Drift\": detected_drift}\n",
    ")\n",
    "sns.set_style(\"white\")\n",
    "plt.figure(figsize=(20, 6))\n",
    "plt.plot(\"Year\", \"KL Divergence\", data=plot_data, label=\"KL Divergence\", marker=\".\")\n",
    "plt.grid(False, axis=\"x\")\n",
    "plt.xticks(years, fontsize=16)\n",
    "plt.yticks(fontsize=16)\n",
    "plt.title(\"CDBD Test Statistics\", fontsize=22)\n",
    "plt.ylabel(\"KL Divergence\", fontsize=18)\n",
    "plt.xlabel(\"Year\", fontsize=18)\n",
    "plt.ylim([min(kl_divergence) - 0.02, max(kl_divergence) + 0.02])\n",
    "for _, t in enumerate(plot_data.loc[plot_data[\"Detected Drift\"] == \"drift\"][\"Year\"]):\n",
    "    plt.axvspan(\n",
    "        t - 0.2, t + 0.2, alpha=0.5, color=\"red\", label=(\"Drift Detected\" if _ == 0 else None)\n",
    "    )\n",
    "plt.legend()\n",
    "plt.axhline(y=0, color=\"orange\", linestyle=\"dashed\")\n",
    "\n",
    "# plt.show()\n",
    "plt.savefig(\"example_CDBD_test_statistics.png\")\n"
   ]
  },
  {
   "cell_type": "code",
   "execution_count": null,
   "metadata": {},
   "outputs": [],
   "source": [
    "\n",
    "\n",
    "### Custom Divergence Metric ### \n",
    "\n",
    "# Define divergence function\n",
    "def distance_metric(reference_histogram, test_histogram):\n",
    "\n",
    "    # Convert inputs to appropriate datatype \n",
    "    ref = np.array(reference_histogram[0])\n",
    "    test = np.array(test_histogram[0])\n",
    "\n",
    "    return np.sqrt(np.sum(np.square(ref-test)))\n",
    "\n",
    "# Test self-defined divergence metric \n",
    "cdbd = CDBD(\n",
    "    divergence=distance_metric,\n",
    "    detect_batch=1,\n",
    "    statistic=\"stdev\",\n",
    "    significance=0.05,\n",
    "    subsets=5,\n",
    ")\n",
    "\n",
    "cdbd.set_reference(reference)\n",
    "cdbd.update(pd.DataFrame(data[data.year == 2008].loc[:, \"confidence\"]))"
   ]
  }
 ],
 "metadata": {
  "kernelspec": {
   "display_name": "Python 3.10.5 ('venv': venv)",
   "language": "python",
   "name": "python3"
  },
  "language_info": {
   "codemirror_mode": {
    "name": "ipython",
    "version": 3
   },
   "file_extension": ".py",
   "mimetype": "text/x-python",
   "name": "python",
   "nbconvert_exporter": "python",
   "pygments_lexer": "ipython3",
   "version": "3.10.5"
  },
  "orig_nbformat": 4,
  "vscode": {
   "interpreter": {
    "hash": "e333d0cd20283ee96f449771faa0e76b10d6c7d969d83355cc002b346ae878c6"
   }
  }
 },
 "nbformat": 4,
 "nbformat_minor": 2
}
