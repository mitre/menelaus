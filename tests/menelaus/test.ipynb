{
 "cells": [
  {
   "cell_type": "code",
   "execution_count": 4,
   "metadata": {},
   "outputs": [
    {
     "name": "stdout",
     "output_type": "stream",
     "text": [
      "   a  b  c\n",
      "0  0  0  0 hey\n",
      "   a\n",
      "0  0 hey2\n",
      "<class 'pandas.core.frame.DataFrame'>\n"
     ]
    },
    {
     "ename": "ValueError",
     "evalue": "setting an array element with a sequence.",
     "output_type": "error",
     "traceback": [
      "\u001b[1;31m---------------------------------------------------------------------------\u001b[0m",
      "\u001b[1;31mTypeError\u001b[0m                                 Traceback (most recent call last)",
      "\u001b[1;31mTypeError\u001b[0m: float() argument must be a string or a real number, not 'DataFrame'",
      "\nThe above exception was the direct cause of the following exception:\n",
      "\u001b[1;31mValueError\u001b[0m                                Traceback (most recent call last)",
      "\u001b[1;32mc:\\Users\\ASRIVASTAVA\\Documents\\repos\\menelaus\\tests\\menelaus\\test.ipynb Cell 1\u001b[0m in \u001b[0;36m<cell line: 37>\u001b[1;34m()\u001b[0m\n\u001b[0;32m     <a href='vscode-notebook-cell:/c%3A/Users/ASRIVASTAVA/Documents/repos/menelaus/tests/menelaus/test.ipynb#W0sZmlsZQ%3D%3D?line=33'>34</a>\u001b[0m     se\u001b[39m.\u001b[39mupdate(X\u001b[39m=\u001b[39mdf\u001b[39m.\u001b[39miloc[[\u001b[39m0\u001b[39m]], y_true\u001b[39m=\u001b[39m\u001b[39m0\u001b[39m, y_pred\u001b[39m=\u001b[39m\u001b[39m0\u001b[39m)\n\u001b[0;32m     <a href='vscode-notebook-cell:/c%3A/Users/ASRIVASTAVA/Documents/repos/menelaus/tests/menelaus/test.ipynb#W0sZmlsZQ%3D%3D?line=34'>35</a>\u001b[0m     \u001b[39massert\u001b[39;00m se\u001b[39m.\u001b[39mdrift_state \u001b[39m==\u001b[39m \u001b[39mNone\u001b[39;00m\n\u001b[1;32m---> <a href='vscode-notebook-cell:/c%3A/Users/ASRIVASTAVA/Documents/repos/menelaus/tests/menelaus/test.ipynb#W0sZmlsZQ%3D%3D?line=36'>37</a>\u001b[0m test_stream_ensemble_3()\n",
      "\u001b[1;32mc:\\Users\\ASRIVASTAVA\\Documents\\repos\\menelaus\\tests\\menelaus\\test.ipynb Cell 1\u001b[0m in \u001b[0;36mtest_stream_ensemble_3\u001b[1;34m()\u001b[0m\n\u001b[0;32m     <a href='vscode-notebook-cell:/c%3A/Users/ASRIVASTAVA/Documents/repos/menelaus/tests/menelaus/test.ipynb#W0sZmlsZQ%3D%3D?line=31'>32</a>\u001b[0m \u001b[39mprint\u001b[39m(column_selectors[\u001b[39m'\u001b[39m\u001b[39ma1\u001b[39m\u001b[39m'\u001b[39m](df\u001b[39m.\u001b[39miloc[[\u001b[39m0\u001b[39m]]), \u001b[39m'\u001b[39m\u001b[39mhey2\u001b[39m\u001b[39m'\u001b[39m)\n\u001b[0;32m     <a href='vscode-notebook-cell:/c%3A/Users/ASRIVASTAVA/Documents/repos/menelaus/tests/menelaus/test.ipynb#W0sZmlsZQ%3D%3D?line=32'>33</a>\u001b[0m \u001b[39mprint\u001b[39m(\u001b[39mtype\u001b[39m(column_selectors[\u001b[39m'\u001b[39m\u001b[39ma1\u001b[39m\u001b[39m'\u001b[39m](df\u001b[39m.\u001b[39miloc[[\u001b[39m0\u001b[39m]])))\n\u001b[1;32m---> <a href='vscode-notebook-cell:/c%3A/Users/ASRIVASTAVA/Documents/repos/menelaus/tests/menelaus/test.ipynb#W0sZmlsZQ%3D%3D?line=33'>34</a>\u001b[0m se\u001b[39m.\u001b[39;49mupdate(X\u001b[39m=\u001b[39;49mdf\u001b[39m.\u001b[39;49miloc[[\u001b[39m0\u001b[39;49m]], y_true\u001b[39m=\u001b[39;49m\u001b[39m0\u001b[39;49m, y_pred\u001b[39m=\u001b[39;49m\u001b[39m0\u001b[39;49m)\n\u001b[0;32m     <a href='vscode-notebook-cell:/c%3A/Users/ASRIVASTAVA/Documents/repos/menelaus/tests/menelaus/test.ipynb#W0sZmlsZQ%3D%3D?line=34'>35</a>\u001b[0m \u001b[39massert\u001b[39;00m se\u001b[39m.\u001b[39mdrift_state \u001b[39m==\u001b[39m \u001b[39mNone\u001b[39;00m\n",
      "File \u001b[1;32mc:\\users\\asrivastava\\documents\\repos\\menelaus\\src\\menelaus\\ensemble.py:236\u001b[0m, in \u001b[0;36mStreamingEnsemble.update\u001b[1;34m(self, X, y_true, y_pred)\u001b[0m\n\u001b[0;32m    226\u001b[0m \u001b[39mdef\u001b[39;00m \u001b[39mupdate\u001b[39m(\u001b[39mself\u001b[39m, X, y_true, y_pred):\n\u001b[0;32m    227\u001b[0m     \u001b[39m\"\"\"\u001b[39;00m\n\u001b[0;32m    228\u001b[0m \u001b[39m    Update ensemble itself, and each constituent detector with new data.\u001b[39;00m\n\u001b[0;32m    229\u001b[0m \u001b[39m    Calls ``Ensemble.update`` and ``StreamingDetector.update`` to do so.\u001b[39;00m\n\u001b[1;32m   (...)\u001b[0m\n\u001b[0;32m    234\u001b[0m \u001b[39m        y_pred (numpy.ndarray): if applicable, predicted labels of input data\u001b[39;00m\n\u001b[0;32m    235\u001b[0m \u001b[39m    \"\"\"\u001b[39;00m\n\u001b[1;32m--> 236\u001b[0m     Ensemble\u001b[39m.\u001b[39;49mupdate(\u001b[39mself\u001b[39;49m, X\u001b[39m=\u001b[39;49mX, y_true\u001b[39m=\u001b[39;49my_true, y_pred\u001b[39m=\u001b[39;49my_pred)\n\u001b[0;32m    237\u001b[0m     StreamingDetector\u001b[39m.\u001b[39mupdate(\u001b[39mself\u001b[39m, X\u001b[39m=\u001b[39mX, y_true\u001b[39m=\u001b[39my_true, y_pred\u001b[39m=\u001b[39my_pred)\n",
      "File \u001b[1;32mc:\\users\\asrivastava\\documents\\repos\\menelaus\\src\\menelaus\\ensemble.py:179\u001b[0m, in \u001b[0;36mEnsemble.update\u001b[1;34m(self, X, y_true, y_pred)\u001b[0m\n\u001b[0;32m    175\u001b[0m \u001b[39mfor\u001b[39;00m det_key \u001b[39min\u001b[39;00m \u001b[39mself\u001b[39m\u001b[39m.\u001b[39mdetectors:\n\u001b[0;32m    176\u001b[0m     \u001b[39m# XXX - Cannot re-define X = constrain(), else external reference is modified\u001b[39;00m\n\u001b[0;32m    177\u001b[0m     \u001b[39m#       Need to see why this is happening and where to put e.g. a copy() stmt.\u001b[39;00m\n\u001b[0;32m    178\u001b[0m     X_selected \u001b[39m=\u001b[39m \u001b[39mself\u001b[39m\u001b[39m.\u001b[39mcolumn_selectors[det_key](X)\n\u001b[1;32m--> 179\u001b[0m     \u001b[39mself\u001b[39;49m\u001b[39m.\u001b[39;49mdetectors[det_key]\u001b[39m.\u001b[39;49mupdate(X\u001b[39m=\u001b[39;49mX_selected, y_true\u001b[39m=\u001b[39;49my_true, y_pred\u001b[39m=\u001b[39;49my_pred)\n\u001b[0;32m    180\u001b[0m \u001b[39mself\u001b[39m\u001b[39m.\u001b[39mevaluate()\n",
      "File \u001b[1;32mc:\\users\\asrivastava\\documents\\repos\\menelaus\\src\\menelaus\\change_detection\\adwin.py:112\u001b[0m, in \u001b[0;36mADWIN.update\u001b[1;34m(self, X, y_true, y_pred)\u001b[0m\n\u001b[0;32m    110\u001b[0m \u001b[39m# add new sample to the head of the window\u001b[39;00m\n\u001b[0;32m    111\u001b[0m \u001b[39mself\u001b[39m\u001b[39m.\u001b[39m_window_size \u001b[39m+\u001b[39m\u001b[39m=\u001b[39m \u001b[39m1\u001b[39m\n\u001b[1;32m--> 112\u001b[0m \u001b[39mself\u001b[39;49m\u001b[39m.\u001b[39;49m_add_sample(X)\n\u001b[0;32m    113\u001b[0m \u001b[39mself\u001b[39m\u001b[39m.\u001b[39m_shrink_window()\n",
      "File \u001b[1;32mc:\\users\\asrivastava\\documents\\repos\\menelaus\\src\\menelaus\\change_detection\\adwin.py:148\u001b[0m, in \u001b[0;36mADWIN._add_sample\u001b[1;34m(self, new_value)\u001b[0m\n\u001b[0;32m    139\u001b[0m \u001b[39m\"\"\"Make a new bucket containing a single new sample and add it to the\u001b[39;00m\n\u001b[0;32m    140\u001b[0m \u001b[39m``BucketList``. Compress any ``BucketRows`` which have reached maximum size.\u001b[39;00m\n\u001b[0;32m    141\u001b[0m \n\u001b[1;32m   (...)\u001b[0m\n\u001b[0;32m    144\u001b[0m \n\u001b[0;32m    145\u001b[0m \u001b[39m\"\"\"\u001b[39;00m\n\u001b[0;32m    146\u001b[0m \u001b[39m# this new bucket should have only one member, so 0 variance.\u001b[39;00m\n\u001b[0;32m    147\u001b[0m \u001b[39m# compress_buckets will maintain proper estimates.\u001b[39;00m\n\u001b[1;32m--> 148\u001b[0m \u001b[39mself\u001b[39;49m\u001b[39m.\u001b[39;49m_bucket_row_list\u001b[39m.\u001b[39;49mhead\u001b[39m.\u001b[39;49madd_bucket(new_value, \u001b[39m0\u001b[39;49m)\n\u001b[0;32m    150\u001b[0m \u001b[39m# update running estimates\u001b[39;00m\n\u001b[0;32m    151\u001b[0m \u001b[39mif\u001b[39;00m \u001b[39mself\u001b[39m\u001b[39m.\u001b[39m_window_size \u001b[39m>\u001b[39m \u001b[39m1\u001b[39m:\n",
      "File \u001b[1;32mc:\\users\\asrivastava\\documents\\repos\\menelaus\\src\\menelaus\\change_detection\\adwin.py:458\u001b[0m, in \u001b[0;36m_BucketRow.add_bucket\u001b[1;34m(self, total, variance)\u001b[0m\n\u001b[0;32m    451\u001b[0m \u001b[39mdef\u001b[39;00m \u001b[39madd_bucket\u001b[39m(\u001b[39mself\u001b[39m, total, variance):\n\u001b[0;32m    452\u001b[0m     \u001b[39m\"\"\"Add a new bucket to the end of this BucketRow with total and variance.\u001b[39;00m\n\u001b[0;32m    453\u001b[0m \n\u001b[0;32m    454\u001b[0m \u001b[39m    Args:\u001b[39;00m\n\u001b[0;32m    455\u001b[0m \u001b[39m      total:\u001b[39;00m\n\u001b[0;32m    456\u001b[0m \u001b[39m      variance:\u001b[39;00m\n\u001b[0;32m    457\u001b[0m \u001b[39m    \"\"\"\u001b[39;00m\n\u001b[1;32m--> 458\u001b[0m     \u001b[39mself\u001b[39m\u001b[39m.\u001b[39mbucket_totals[\u001b[39mself\u001b[39m\u001b[39m.\u001b[39mbucket_count] \u001b[39m=\u001b[39m total\n\u001b[0;32m    459\u001b[0m     \u001b[39mself\u001b[39m\u001b[39m.\u001b[39mbucket_variances[\u001b[39mself\u001b[39m\u001b[39m.\u001b[39mbucket_count] \u001b[39m=\u001b[39m variance\n\u001b[0;32m    460\u001b[0m     \u001b[39mself\u001b[39m\u001b[39m.\u001b[39mbucket_count \u001b[39m+\u001b[39m\u001b[39m=\u001b[39m \u001b[39m1\u001b[39m\n",
      "\u001b[1;31mValueError\u001b[0m: setting an array element with a sequence."
     ]
    }
   ],
   "source": [
    "import pandas as pd\n",
    "\n",
    "from menelaus.ensemble import StreamingEnsemble, BatchEnsemble, EVALUATORS\n",
    "from menelaus.ensemble import eval_simple_majority, eval_confirmed_approval, eval_minimum_approval\n",
    "from menelaus.data_drift import KdqTreeBatch\n",
    "from menelaus.concept_drift import STEPD\n",
    "from menelaus.change_detection import ADWIN\n",
    "\n",
    "\n",
    "\n",
    "\n",
    "def test_stream_ensemble_3():\n",
    "    \"\"\"Ensure stream ensemble executes with univariate data\"\"\"\n",
    "    adwin1 = ADWIN()\n",
    "    adwin2 = ADWIN()\n",
    "    adwin3 = ADWIN()\n",
    "    \n",
    "    column_selectors = {\n",
    "        \"a1\": lambda X: X[[\"a\"]],\n",
    "        \"a2\": lambda X: X[[\"b\"]],\n",
    "        \"a3\": lambda X: X[[\"c\"]]\n",
    "    }\n",
    "\n",
    "    se = StreamingEnsemble(\n",
    "        detectors={\"a1\": adwin1, \"a2\": adwin2, \"a3\": adwin3},\n",
    "        evaluator=EVALUATORS[\"simple-majority\"],\n",
    "        column_selectors=column_selectors\n",
    "    )\n",
    "    \n",
    "    df = pd.DataFrame({\"a\": [0,0], \"b\": [0,0], \"c\": [0,0]})\n",
    "\n",
    "    X = df.iloc\n",
    "\n",
    "    print(df.iloc[[0]], 'hey')\n",
    "    print(column_selectors['a1'](df.iloc[[0]]), 'hey2')\n",
    "    print(type(column_selectors['a1'](df.iloc[[0]])))\n",
    "    se.update(X=df.iloc[[0]], y_true=0, y_pred=0)\n",
    "    assert se.drift_state == None\n",
    "\n",
    "test_stream_ensemble_3()"
   ]
  },
  {
   "cell_type": "code",
   "execution_count": 5,
   "metadata": {},
   "outputs": [
    {
     "data": {
      "text/html": [
       "<div>\n",
       "<style scoped>\n",
       "    .dataframe tbody tr th:only-of-type {\n",
       "        vertical-align: middle;\n",
       "    }\n",
       "\n",
       "    .dataframe tbody tr th {\n",
       "        vertical-align: top;\n",
       "    }\n",
       "\n",
       "    .dataframe thead th {\n",
       "        text-align: right;\n",
       "    }\n",
       "</style>\n",
       "<table border=\"1\" class=\"dataframe\">\n",
       "  <thead>\n",
       "    <tr style=\"text-align: right;\">\n",
       "      <th></th>\n",
       "      <th>a</th>\n",
       "      <th>b</th>\n",
       "      <th>c</th>\n",
       "    </tr>\n",
       "  </thead>\n",
       "  <tbody>\n",
       "    <tr>\n",
       "      <th>0</th>\n",
       "      <td>0</td>\n",
       "      <td>0</td>\n",
       "      <td>0</td>\n",
       "    </tr>\n",
       "    <tr>\n",
       "      <th>1</th>\n",
       "      <td>0</td>\n",
       "      <td>0</td>\n",
       "      <td>0</td>\n",
       "    </tr>\n",
       "  </tbody>\n",
       "</table>\n",
       "</div>"
      ],
      "text/plain": [
       "   a  b  c\n",
       "0  0  0  0\n",
       "1  0  0  0"
      ]
     },
     "execution_count": 5,
     "metadata": {},
     "output_type": "execute_result"
    }
   ],
   "source": [
    "adwin1 = ADWIN()\n",
    "adwin2 = ADWIN()\n",
    "adwin3 = ADWIN()\n",
    "    \n",
    "column_selectors = {\n",
    "    \"a1\": lambda X: X[[\"a\"]],\n",
    "    \"a2\": lambda X: X[[\"b\"]],\n",
    "    \"a3\": lambda X: X[[\"c\"]]\n",
    "}\n",
    "\n",
    "se = StreamingEnsemble(\n",
    "    detectors={\"a1\": adwin1, \"a2\": adwin2, \"a3\": adwin3},\n",
    "    evaluator=EVALUATORS[\"simple-majority\"],\n",
    "    column_selectors=column_selectors\n",
    ")\n",
    "\n",
    "df = pd.DataFrame({\"a\": [0,0], \"b\": [0,0], \"c\": [0,0]})\n",
    "df"
   ]
  },
  {
   "cell_type": "code",
   "execution_count": 10,
   "metadata": {},
   "outputs": [
    {
     "ename": "ValueError",
     "evalue": "setting an array element with a sequence.",
     "output_type": "error",
     "traceback": [
      "\u001b[1;31m---------------------------------------------------------------------------\u001b[0m",
      "\u001b[1;31mTypeError\u001b[0m                                 Traceback (most recent call last)",
      "\u001b[1;31mTypeError\u001b[0m: float() argument must be a string or a real number, not 'DataFrame'",
      "\nThe above exception was the direct cause of the following exception:\n",
      "\u001b[1;31mValueError\u001b[0m                                Traceback (most recent call last)",
      "\u001b[1;32mc:\\Users\\ASRIVASTAVA\\Documents\\repos\\menelaus\\tests\\menelaus\\test.ipynb Cell 3\u001b[0m in \u001b[0;36m<cell line: 3>\u001b[1;34m()\u001b[0m\n\u001b[0;32m      <a href='vscode-notebook-cell:/c%3A/Users/ASRIVASTAVA/Documents/repos/menelaus/tests/menelaus/test.ipynb#W2sZmlsZQ%3D%3D?line=0'>1</a>\u001b[0m X1 \u001b[39m=\u001b[39m df\u001b[39m.\u001b[39miloc[[\u001b[39m0\u001b[39m]]\n\u001b[0;32m      <a href='vscode-notebook-cell:/c%3A/Users/ASRIVASTAVA/Documents/repos/menelaus/tests/menelaus/test.ipynb#W2sZmlsZQ%3D%3D?line=1'>2</a>\u001b[0m X2 \u001b[39m=\u001b[39m column_selectors[\u001b[39m'\u001b[39m\u001b[39ma1\u001b[39m\u001b[39m'\u001b[39m](df)\n\u001b[1;32m----> <a href='vscode-notebook-cell:/c%3A/Users/ASRIVASTAVA/Documents/repos/menelaus/tests/menelaus/test.ipynb#W2sZmlsZQ%3D%3D?line=2'>3</a>\u001b[0m adwin1\u001b[39m.\u001b[39;49mupdate(X2\u001b[39m.\u001b[39;49miloc[[\u001b[39m0\u001b[39;49m]])\n",
      "File \u001b[1;32mc:\\users\\asrivastava\\documents\\repos\\menelaus\\src\\menelaus\\change_detection\\adwin.py:112\u001b[0m, in \u001b[0;36mADWIN.update\u001b[1;34m(self, X, y_true, y_pred)\u001b[0m\n\u001b[0;32m    110\u001b[0m \u001b[39m# add new sample to the head of the window\u001b[39;00m\n\u001b[0;32m    111\u001b[0m \u001b[39mself\u001b[39m\u001b[39m.\u001b[39m_window_size \u001b[39m+\u001b[39m\u001b[39m=\u001b[39m \u001b[39m1\u001b[39m\n\u001b[1;32m--> 112\u001b[0m \u001b[39mself\u001b[39;49m\u001b[39m.\u001b[39;49m_add_sample(X)\n\u001b[0;32m    113\u001b[0m \u001b[39mself\u001b[39m\u001b[39m.\u001b[39m_shrink_window()\n",
      "File \u001b[1;32mc:\\users\\asrivastava\\documents\\repos\\menelaus\\src\\menelaus\\change_detection\\adwin.py:148\u001b[0m, in \u001b[0;36mADWIN._add_sample\u001b[1;34m(self, new_value)\u001b[0m\n\u001b[0;32m    139\u001b[0m \u001b[39m\"\"\"Make a new bucket containing a single new sample and add it to the\u001b[39;00m\n\u001b[0;32m    140\u001b[0m \u001b[39m``BucketList``. Compress any ``BucketRows`` which have reached maximum size.\u001b[39;00m\n\u001b[0;32m    141\u001b[0m \n\u001b[1;32m   (...)\u001b[0m\n\u001b[0;32m    144\u001b[0m \n\u001b[0;32m    145\u001b[0m \u001b[39m\"\"\"\u001b[39;00m\n\u001b[0;32m    146\u001b[0m \u001b[39m# this new bucket should have only one member, so 0 variance.\u001b[39;00m\n\u001b[0;32m    147\u001b[0m \u001b[39m# compress_buckets will maintain proper estimates.\u001b[39;00m\n\u001b[1;32m--> 148\u001b[0m \u001b[39mself\u001b[39;49m\u001b[39m.\u001b[39;49m_bucket_row_list\u001b[39m.\u001b[39;49mhead\u001b[39m.\u001b[39;49madd_bucket(new_value, \u001b[39m0\u001b[39;49m)\n\u001b[0;32m    150\u001b[0m \u001b[39m# update running estimates\u001b[39;00m\n\u001b[0;32m    151\u001b[0m \u001b[39mif\u001b[39;00m \u001b[39mself\u001b[39m\u001b[39m.\u001b[39m_window_size \u001b[39m>\u001b[39m \u001b[39m1\u001b[39m:\n",
      "File \u001b[1;32mc:\\users\\asrivastava\\documents\\repos\\menelaus\\src\\menelaus\\change_detection\\adwin.py:458\u001b[0m, in \u001b[0;36m_BucketRow.add_bucket\u001b[1;34m(self, total, variance)\u001b[0m\n\u001b[0;32m    451\u001b[0m \u001b[39mdef\u001b[39;00m \u001b[39madd_bucket\u001b[39m(\u001b[39mself\u001b[39m, total, variance):\n\u001b[0;32m    452\u001b[0m     \u001b[39m\"\"\"Add a new bucket to the end of this BucketRow with total and variance.\u001b[39;00m\n\u001b[0;32m    453\u001b[0m \n\u001b[0;32m    454\u001b[0m \u001b[39m    Args:\u001b[39;00m\n\u001b[0;32m    455\u001b[0m \u001b[39m      total:\u001b[39;00m\n\u001b[0;32m    456\u001b[0m \u001b[39m      variance:\u001b[39;00m\n\u001b[0;32m    457\u001b[0m \u001b[39m    \"\"\"\u001b[39;00m\n\u001b[1;32m--> 458\u001b[0m     \u001b[39mself\u001b[39m\u001b[39m.\u001b[39mbucket_totals[\u001b[39mself\u001b[39m\u001b[39m.\u001b[39mbucket_count] \u001b[39m=\u001b[39m total\n\u001b[0;32m    459\u001b[0m     \u001b[39mself\u001b[39m\u001b[39m.\u001b[39mbucket_variances[\u001b[39mself\u001b[39m\u001b[39m.\u001b[39mbucket_count] \u001b[39m=\u001b[39m variance\n\u001b[0;32m    460\u001b[0m     \u001b[39mself\u001b[39m\u001b[39m.\u001b[39mbucket_count \u001b[39m+\u001b[39m\u001b[39m=\u001b[39m \u001b[39m1\u001b[39m\n",
      "\u001b[1;31mValueError\u001b[0m: setting an array element with a sequence."
     ]
    }
   ],
   "source": [
    "X1 = df.iloc[[0]]\n",
    "X2 = column_selectors['a1'](df)\n",
    "adwin1.update(X2.iloc[[0]])"
   ]
  },
  {
   "cell_type": "code",
   "execution_count": 9,
   "metadata": {},
   "outputs": [
    {
     "data": {
      "text/html": [
       "<div>\n",
       "<style scoped>\n",
       "    .dataframe tbody tr th:only-of-type {\n",
       "        vertical-align: middle;\n",
       "    }\n",
       "\n",
       "    .dataframe tbody tr th {\n",
       "        vertical-align: top;\n",
       "    }\n",
       "\n",
       "    .dataframe thead th {\n",
       "        text-align: right;\n",
       "    }\n",
       "</style>\n",
       "<table border=\"1\" class=\"dataframe\">\n",
       "  <thead>\n",
       "    <tr style=\"text-align: right;\">\n",
       "      <th></th>\n",
       "      <th>a</th>\n",
       "    </tr>\n",
       "  </thead>\n",
       "  <tbody>\n",
       "    <tr>\n",
       "      <th>0</th>\n",
       "      <td>0</td>\n",
       "    </tr>\n",
       "  </tbody>\n",
       "</table>\n",
       "</div>"
      ],
      "text/plain": [
       "   a\n",
       "0  0"
      ]
     },
     "execution_count": 9,
     "metadata": {},
     "output_type": "execute_result"
    }
   ],
   "source": [
    "X2.iloc[[0]]"
   ]
  },
  {
   "cell_type": "code",
   "execution_count": null,
   "metadata": {},
   "outputs": [],
   "source": []
  }
 ],
 "metadata": {
  "kernelspec": {
   "display_name": "Python 3.10.6 ('venv': venv)",
   "language": "python",
   "name": "python3"
  },
  "language_info": {
   "codemirror_mode": {
    "name": "ipython",
    "version": 3
   },
   "file_extension": ".py",
   "mimetype": "text/x-python",
   "name": "python",
   "nbconvert_exporter": "python",
   "pygments_lexer": "ipython3",
   "version": "3.10.6"
  },
  "orig_nbformat": 4,
  "vscode": {
   "interpreter": {
    "hash": "e333d0cd20283ee96f449771faa0e76b10d6c7d969d83355cc002b346ae878c6"
   }
  }
 },
 "nbformat": 4,
 "nbformat_minor": 2
}
