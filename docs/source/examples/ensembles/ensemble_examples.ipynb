{
 "cells": [
  {
   "cell_type": "markdown",
   "metadata": {},
   "source": [
    "# Ensemble Drift Detector Examples\n",
    "\n",
    "This notebook contains examples on how to build and use ensemble detectors using the individual algorithms in the `menelaus` suite. These examples also include instructions on specifying evaluation schemes and setting custom subsets of data per constituent detector.  \n",
    "\n",
    "Most parameterizations and initalizations therein may not result in optimal performance or detection, and are provided just for demonstration.\n",
    "\n",
    "## Imports"
   ]
  },
  {
   "cell_type": "code",
   "execution_count": null,
   "metadata": {},
   "outputs": [],
   "source": [
    "import numpy as np\n",
    "\n",
    "from menelaus.concept_drift import STEPD\n",
    "from menelaus.change_detection import ADWIN\n",
    "from menelaus.datasets import make_example_batch_data, fetch_rainfall_data\n",
    "from menelaus.data_drift import HDDDM, KdqTreeBatch, KdqTreeStreaming\n",
    "from menelaus.ensemble import BatchEnsemble, StreamingEnsemble\n",
    "from menelaus.ensemble import SimpleMajorityElection, MinimumApprovalElection"
   ]
  },
  {
   "cell_type": "markdown",
   "metadata": {},
   "source": [
    "## Import Data"
   ]
  },
  {
   "cell_type": "code",
   "execution_count": null,
   "metadata": {},
   "outputs": [],
   "source": [
    "example_data = make_example_batch_data()\n",
    "rainfall_data = fetch_rainfall_data()"
   ]
  },
  {
   "cell_type": "markdown",
   "metadata": {},
   "source": [
    "## Batch Ensemble\n",
    "\n",
    "The simplest use of an ensemble is to combine three data-drift-only detectors with few additional settings. In this case we can combine three instances of batch detectors (`KdqTreeBatch`, `HDDDM`), all operating on the same data columns, with a very basic evaluation scheme (*i.e.* a simple majority of detectors alarming, causes the ensemble to alarm)."
   ]
  },
  {
   "cell_type": "code",
   "execution_count": null,
   "metadata": {},
   "outputs": [],
   "source": [
    "# initialize set of detectors with desired parameterizations\n",
    "detectors = {\n",
    "    'k1': KdqTreeBatch(bootstrap_samples=500),\n",
    "    'k2': KdqTreeBatch(bootstrap_samples=475),\n",
    "    'h1': HDDDM()\n",
    "}\n",
    "\n",
    "# choose an election scheme\n",
    "election = SimpleMajorityElection()\n",
    "\n",
    "# initialize an ensemble object\n",
    "ensemble = BatchEnsemble(detectors, election)"
   ]
  },
  {
   "cell_type": "markdown",
   "metadata": {},
   "source": [
    "Note that `BatchEnsemble` and `StreamingEnsemble` are instances of `BatchDetector` and `StreamingDetector` themselves (respectively). As such, they are used in the same syntactic way and possess similar properties."
   ]
  },
  {
   "cell_type": "code",
   "execution_count": null,
   "metadata": {},
   "outputs": [],
   "source": [
    "# make dataset smaller\n",
    "df_example_data = example_data[example_data.year < 2010]\n",
    "\n",
    "# split dataset into 1 dataset for each 'batch' (year)\n",
    "df_into_batches = [x for _,x in df_example_data.groupby('year')]\n",
    "df_into_batches = [x[['a', 'b', 'c']] for x in df_into_batches]\n",
    "\n",
    "# batch detectors -- and ensembles -- need an initial reference batch\n",
    "ensemble.set_reference(df_into_batches[0])\n",
    "print(f\"Batch #{0} | Ensemble reference set\")\n",
    "\n",
    "for i, batch in enumerate(df_into_batches[1:]):\n",
    "    ensemble.update(batch)\n",
    "    print(f\"Batch #{i+1} | Ensemble overall drift state: {ensemble.drift_state}\")"
   ]
  },
  {
   "cell_type": "markdown",
   "metadata": {},
   "source": [
    "## Streaming Ensemble\n",
    "\n",
    "Using an ensemble of streaming detectors can involve additional features. This example uses both data and concept drift detectors (`KdqTreeStreaming`, `STEPD`), custom subsets of data for different detectors, as well as a different election scheme that will alarm if a custom, minimum number of detectors \"approve\" or alarm for drift."
   ]
  },
  {
   "cell_type": "code",
   "execution_count": null,
   "metadata": {},
   "outputs": [],
   "source": [
    "# initialize set of detectors with desired parameterizations\n",
    "detectors = {\n",
    "    'k1': KdqTreeStreaming(window_size=200, bootstrap_samples=250),\n",
    "    'k2': KdqTreeStreaming(window_size=225, bootstrap_samples=200),\n",
    "    's1': STEPD(window_size=50),\n",
    "    'a': ADWIN(delta=.001)\n",
    "\n",
    "}\n",
    "\n",
    "# Functions that select the part of 'X' each detector needs - keys must match!\n",
    "# Note that the default behavior, without a selector specified, is to use all columns.\n",
    "# For detectors that only operate on y_true and y_pred, like STEPD, specifying\n",
    "# a selector isn't necessary. But for detectors like ADWIN, which only monitor \n",
    "# a single variable within X, the selector *must* be specified!\n",
    "column_selectors = {\n",
    "    'k1': lambda x: x[['temperature', 'visibility', 'dew_point']],\n",
    "    'k2': lambda x: x[['temperature', 'visibility', 'average_wind_speed']],\n",
    "    'a': lambda x: x[['visibility']]\n",
    "}\n",
    "\n",
    "# choose an election scheme\n",
    "election = MinimumApprovalElection(approvals_needed=1)\n",
    "\n",
    "# initialize an ensemble object\n",
    "stream_ensemble = StreamingEnsemble(detectors, election, column_selectors)"
   ]
  },
  {
   "cell_type": "markdown",
   "metadata": {},
   "source": [
    "When mixing concept and data drift detectors, it's especially important to pass data explicitly."
   ]
  },
  {
   "cell_type": "code",
   "execution_count": null,
   "metadata": {},
   "outputs": [],
   "source": [
    "# make data smaller\n",
    "df_stream = rainfall_data[0:1000]\n",
    "\n",
    "# random \"predicted\" outcomes -- in case a concept drift detector needs them\n",
    "y_preds = np.random.randint(low=0, high=2, size=1000)\n",
    "\n",
    "# use ensemble\n",
    "for i, row in df_stream.iterrows():\n",
    "    stream_ensemble.update(\n",
    "        X=df_stream.loc[[i]],\n",
    "        y_true=row['rain'],\n",
    "        y_pred=y_preds[i]\n",
    "    )\n",
    "    if stream_ensemble.drift_state is not None:\n",
    "        print(f\"Example #{i} | Ensemble drift state: {stream_ensemble.drift_state}\")"
   ]
  },
  {
   "cell_type": "code",
   "execution_count": null,
   "metadata": {},
   "outputs": [],
   "source": []
  }
 ],
 "metadata": {
  "kernelspec": {
   "display_name": "Python 3.10.2 ('molten_env')",
   "language": "python",
   "name": "python3"
  },
  "language_info": {
   "codemirror_mode": {
    "name": "ipython",
    "version": 3
   },
   "file_extension": ".py",
   "mimetype": "text/x-python",
   "name": "python",
   "nbconvert_exporter": "python",
   "pygments_lexer": "ipython3",
   "version": "3.10.2"
  },
  "orig_nbformat": 4,
  "vscode": {
   "interpreter": {
    "hash": "cebda30e5482c3c83cb9c7c7d8ef1c1d1f67dcf93284b9e88f69b68f560a7bf6"
   }
  }
 },
 "nbformat": 4,
 "nbformat_minor": 2
}
