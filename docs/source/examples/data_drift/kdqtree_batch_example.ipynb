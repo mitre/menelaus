{
 "cells": [
  {
   "cell_type": "markdown",
   "metadata": {},
   "source": [
    "# KDQ-Tree Detection Method Example (Batch Setting)"
   ]
  },
  {
   "cell_type": "markdown",
   "metadata": {},
   "source": [
    "This example shows up how to set up, run, and produce output from the kdq-Tree\n",
    "detector, specifically in the batch data setting. The parameters aren't \n",
    "necessarily tuned for best performance, just notional.\n",
    "\n",
    "Drift in the example dataset occurs in 2009, 2012, 2015, 2018, and 2021. Drift\n",
    "in 2018 persists through 2021. See\n",
    "src/menelaus/tools/artifacts/README_example_data.txt for more details.\n",
    "\n",
    "This example takes roughly a minute to run."
   ]
  },
  {
   "cell_type": "code",
   "execution_count": null,
   "metadata": {},
   "outputs": [],
   "source": [
    "## Imports ##\n",
    "\n",
    "import os\n",
    "import pandas as pd\n",
    "import numpy as np\n",
    "import plotly.express as px\n",
    "from menelaus.data_drift.kdq_tree import KdqTree"
   ]
  },
  {
   "cell_type": "code",
   "execution_count": null,
   "metadata": {},
   "outputs": [],
   "source": [
    "## Import Data ##\n",
    "\n",
    "df_orig = pd.read_csv(\n",
    "    os.path.join(\"..\", \"..\", \"..\", \"..\", \"src\", \"menelaus\", \"tools\", \"artifacts\", \"example_data.csv\"),\n",
    "    index_col=\"id\",\n",
    "    dtype={\"drift\": bool},\n",
    ")"
   ]
  },
  {
   "cell_type": "code",
   "execution_count": null,
   "metadata": {},
   "outputs": [],
   "source": [
    "## Setup ##\n",
    "\n",
    "# kdq-Tree does use bootstrapping to define its critical thresholds, so setting\n",
    "# the seed is important to reproduce exact behavior.\n",
    "np.random.seed(123)\n",
    "\n",
    "# Convert the categorical columns to dummy variables\n",
    "df = pd.concat([df_orig, pd.get_dummies(df_orig.cat, prefix=\"cat\")], axis=1)\n",
    "\n",
    "# Capture the column which tells us when drift truly occurred\n",
    "drift_years = df.groupby(\"year\")[\"drift\"].apply(lambda x: x.unique()[0]).reset_index()\n",
    "\n",
    "# Because the drift in 2009, 2012, and 2016 is intermittent - it reverts\n",
    "# back to the prior distribution in the subsequent year - we should also detect\n",
    "# drift in 2010, 2013, and 2016. So:\n",
    "drift_years.loc[drift_years[\"year\"].isin([2010, 2013, 2016]), \"drift\"] = True\n",
    "\n",
    "\n",
    "df.drop(columns=[\"cat\", \"confidence\", \"drift\"], inplace=True)\n",
    "\n",
    "\n",
    "plot_data = {}\n",
    "status = pd.DataFrame(columns=[\"year\", \"drift\"])\n",
    "det = KdqTree(input_type=\"batch\")\n",
    "\n",
    "# Set up reference batch, using 2007 as reference year\n",
    "det.set_reference(df[df.year == 2007].values)"
   ]
  },
  {
   "cell_type": "code",
   "execution_count": null,
   "metadata": {},
   "outputs": [],
   "source": [
    "# Batch the data by year and run kdqTree\n",
    "for group, sub_df in df[df.year != 2007].groupby(\"year\"):\n",
    "    det.update(sub_df.drop(columns=[\"year\"]).values)\n",
    "    status = pd.concat(\n",
    "        [status, pd.DataFrame({\"year\": [group], \"drift\": [det.drift_state]})],\n",
    "        axis=0,\n",
    "        ignore_index=True,\n",
    "    )\n",
    "    if det.drift_state is not None:\n",
    "        # capture the visualization data\n",
    "        plot_data[group] = det.to_plotly_dataframe()\n",
    "        \n",
    "        # option to specify reference batch to be any year \n",
    "        #det.set_reference(df[df.year == XXXX].values)"
   ]
  },
  {
   "cell_type": "code",
   "execution_count": null,
   "metadata": {},
   "outputs": [],
   "source": [
    "# Print out the true drift status, and that according to the detector.\n",
    "# The detector successfully identifies drift in every year but 2018;\n",
    "# that's the first year where persistent drift, from 2018-2021, was induced.\n",
    "# The detector picks it up in 2019, the second year of persistent drift.\n",
    "(\n",
    "    status.merge(drift_years, how=\"left\", on=\"year\", suffixes=[\"_kdqTree\", \"_true\"])\n",
    "    .replace({True: \"drift\", False: None})\n",
    "    .to_csv(\"example_kdqtree_drift_comparison.csv\", index=False)\n",
    ")"
   ]
  },
  {
   "cell_type": "code",
   "execution_count": null,
   "metadata": {},
   "outputs": [],
   "source": [
    "# If we save off the to_plotly_dataframe at each drift detection, we can display\n",
    "# the Kulldorff Spatial Scan Statistic (KSS) for each. Higher values of KSS\n",
    "# indicate that a given region of the data space has greater divergence between\n",
    "# the reference and test data.\n",
    "for year, df_plot in plot_data.items():\n",
    "    fig = px.treemap(\n",
    "        data_frame=df_plot,\n",
    "        names=\"name\",\n",
    "        ids=\"idx\",\n",
    "        parents=\"parent_idx\",\n",
    "        color=\"kss\",\n",
    "        color_continuous_scale=\"blues\",\n",
    "        title=year,\n",
    "    )\n",
    "    fig.update_traces(root_color=\"lightgrey\")\n",
    "    fig.show()\n",
    "    # fig.write_html(f\"example_kdqtree_treemap_{year}.html\")\n",
    "\n",
    "# We can see that the regions of greatest drift do line up with at least one of\n",
    "# the items that were modified in a given year.\n",
    "\n",
    "# For reference, the detailed descriptions of drift induction:\n",
    "# Drift 1: change the mean & var of item B in 2009, means will revert for 2010 on\n",
    "# Drift 2: change the variance of item c and d in 2012 by replacing some with the mean\n",
    "# keep same mean as other years, revert by 2013\n",
    "# Drift 3: change the correlation of item e and f in 2015 (go from correlation of 0 to correlation of 0.5)\n",
    "# Drift 4: change mean and var of H and persist it from 2018 on\n",
    "# Drift 5: change mean and var just for a year of J in 2021"
   ]
  }
 ],
 "metadata": {
  "language_info": {
   "name": "python"
  },
  "orig_nbformat": 4
 },
 "nbformat": 4,
 "nbformat_minor": 2
}
