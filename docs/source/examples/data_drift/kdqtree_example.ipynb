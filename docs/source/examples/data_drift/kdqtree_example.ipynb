{
 "cells": [
  {
   "cell_type": "markdown",
   "metadata": {},
   "source": [
    "# KDQ-Tree Detection Method Example"
   ]
  },
  {
   "cell_type": "markdown",
   "metadata": {},
   "source": [
    "KdqTree monitors incoming features by constructing a tree which partitions the feature-space, and then monitoring a divergence statistic that is defined over that partition. It watches data within a sliding window of a particular size. When that window is full, it builds the reference tree. As the window moves forward, point-by-point, the data in that new window is compared against the reference tree to detect drift."
   ]
  },
  {
   "cell_type": "code",
   "execution_count": null,
   "metadata": {},
   "outputs": [],
   "source": [
    "## Imports ##\n",
    "\n",
    "import os\n",
    "import pandas as pd\n",
    "import numpy as np\n",
    "import matplotlib.pyplot as plt\n",
    "import plotly.express as px\n",
    "from menelaus.data_drift import KdqTree"
   ]
  },
  {
   "cell_type": "code",
   "execution_count": null,
   "metadata": {},
   "outputs": [],
   "source": [
    "## Import Data ##\n",
    "\n",
    "# read in Circle dataset\n",
    "df = pd.read_csv(\n",
    "    os.path.join(\n",
    "        \"..\", \"..\", \"..\", \"..\", \"src\", \"menelaus\", \"tools\", \"artifacts\", \"dataCircleGSev3Sp3Train.csv\"\n",
    "    ),\n",
    "    usecols=[0, 1, 2],\n",
    "    names=[\"var1\", \"var2\", \"y\"],\n",
    ")"
   ]
  },
  {
   "cell_type": "code",
   "execution_count": null,
   "metadata": {},
   "outputs": [],
   "source": [
    "## Setup ##\n",
    "\n",
    "# kdqTree does use bootstrapping to define its critical thresholds, so setting\n",
    "# the seed is important to reproduce exact behavior.\n",
    "np.random.seed(1)\n",
    "\n",
    "# Note that the default input_type for KDQTree is \"stream\".\n",
    "# The window size, corresponding to the portion of the stream which KDQTree\n",
    "# monitors, must be specified.\n",
    "det = KdqTree(window_size=500, alpha=0.05, bootstrap_samples=500, count_ubound=50)\n",
    "\n",
    "# setup DF to record results\n",
    "status = pd.DataFrame(columns=[\"index\", \"var1\", \"var2\", \"drift_detected\"])\n",
    "\n",
    "# iterate through X data and run detector\n",
    "data = df[[\"var1\", \"var2\"]]"
   ]
  },
  {
   "cell_type": "code",
   "execution_count": null,
   "metadata": {},
   "outputs": [],
   "source": [
    "## Plotting ##\n",
    "\n",
    "plot_data = {}\n",
    "for i in range(len(df)):\n",
    "    det.update(data.iloc[[i]].values)\n",
    "    status.loc[i] = [i, data.iloc[i, 0], data.iloc[i, 1], det.drift_state]\n",
    "    if det.drift_state is not None:\n",
    "        # capture the visualization data\n",
    "        plot_data[i] = det.to_plotly_dataframe()\n",
    "\n",
    "plt.figure(figsize=(20, 6))\n",
    "plt.scatter(\"index\", \"var2\", data=status, label=\"var2\")\n",
    "plt.scatter(\"index\", \"var1\", data=status, label=\"var1\", alpha=0.5)\n",
    "plt.grid(False, axis=\"x\")\n",
    "plt.xticks(fontsize=16)\n",
    "plt.yticks(fontsize=16)\n",
    "plt.title(\"KDQ Tree Test Results\", fontsize=22)\n",
    "plt.ylabel(\"Value\", fontsize=18)\n",
    "plt.xlabel(\"Index\", fontsize=18)\n",
    "ylims = [-0.05, 1.05]\n",
    "plt.ylim(ylims)\n",
    "\n",
    "drift_start, drift_end = 1000, 1250\n",
    "plt.axvspan(drift_start, drift_end, alpha=0.5, label=\"Drift Induction Window\")\n",
    "\n",
    "# Draw red lines that indicate where drift was detected\n",
    "plt.vlines(\n",
    "    x=status.loc[status[\"drift_detected\"] == \"drift\"][\"index\"],\n",
    "    ymin=ylims[0],\n",
    "    ymax=ylims[1],\n",
    "    label=\"Drift Detected\",\n",
    "    color=\"red\",\n",
    ")\n",
    "\n",
    "plt.legend()\n",
    "\n",
    "\n",
    "# Given a window_size of 500, with only the two input features, KdqTree detects\n",
    "# a change after about half of the data within its window is in the new regime.\n",
    "plt.show()\n",
    "# plt.savefig(\"example_streaming_kdqtree_feature_stream.png\")"
   ]
  },
  {
   "cell_type": "code",
   "execution_count": null,
   "metadata": {},
   "outputs": [],
   "source": [
    "## Kulldorff Spatial Scan Statistic (KSS) ##\n",
    "\n",
    "# If we save off the to_plotly_dataframe at each drift detection, we can display\n",
    "# the Kulldorff Spatial Scan Statistic (KSS) for each. Higher values of KSS\n",
    "# indicate that a given region of the data space has greater divergence between\n",
    "# the reference and test data.\n",
    "#\n",
    "# Note that the structure of the particular tree depends on the reference data\n",
    "# and the order of the columns within the dataframe!\n",
    "\n",
    "# Since this data only contains two features, the tree is relatively\n",
    "# shallow.\n",
    "for title, df_plot in plot_data.items():\n",
    "    fig = px.treemap(\n",
    "        data_frame=df_plot,\n",
    "        names=\"name\",\n",
    "        ids=\"idx\",\n",
    "        parents=\"parent_idx\",\n",
    "        color=\"kss\",\n",
    "        color_continuous_scale=\"blues\",\n",
    "        title=f\"Index {title}\",\n",
    "    )\n",
    "    fig.update_traces(root_color=\"lightgrey\")\n",
    "    fig.show()\n",
    "    # fig.write_html(f\"example_streaming_kdqtree_treemap_{title}.html\")"
   ]
  }
 ],
 "metadata": {
  "language_info": {
   "name": "python"
  },
  "orig_nbformat": 4
 },
 "nbformat": 4,
 "nbformat_minor": 2
}
