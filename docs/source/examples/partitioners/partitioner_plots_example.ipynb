{
 "cells": [
  {
   "cell_type": "markdown",
   "metadata": {},
   "source": [
    "# Partitioner Plot Example"
   ]
  },
  {
   "cell_type": "markdown",
   "metadata": {},
   "source": [
    "These examples show how to visualize the tree-based partitioning performed by \n",
    "KDQTreePartitioner.\n",
    "\n",
    "KDQTreePartitioner takes input data and partitions the data into a kdq-Tree. New \n",
    "data can be passed subsequently and counted according to that same reference \n",
    "partition. The two datasets can then be compared.\n",
    "\n",
    "This partitioner is used within the library within ``data_drift.kdq_tree``, \n",
    "where the reference data is used to build the partition, and the test data is \n",
    "then divided by that partition, in order to compare the two distributions."
   ]
  },
  {
   "cell_type": "code",
   "execution_count": null,
   "metadata": {},
   "outputs": [],
   "source": [
    "## Imports ##\n",
    "\n",
    "import numpy as np\n",
    "import plotly.express as px\n",
    "from menelaus.partitioners.KDQTreePartitioner import KDQTreePartitioner, KDQTreeNodeb"
   ]
  },
  {
   "cell_type": "markdown",
   "metadata": {},
   "source": [
    "## Basic Plot"
   ]
  },
  {
   "cell_type": "code",
   "execution_count": null,
   "metadata": {},
   "outputs": [],
   "source": [
    "# Create some data and build the tree.\n",
    "data = np.random.randint(0, 10, (20, 3))\n",
    "kp = KDQTreePartitioner(count_ubound=8)\n",
    "root = kp.build(data)\n",
    "KDQTreeNode.as_text(root)\n",
    "\n",
    "# Grab the output for plotly.\n",
    "df_plot = kp.to_plotly_dataframe(tree_id1=\"build\")"
   ]
  },
  {
   "cell_type": "code",
   "execution_count": null,
   "metadata": {},
   "outputs": [],
   "source": [
    "# Note that plotly's textinfo value could be used to add alternative values,\n",
    "# if desired.\n",
    "fig = px.treemap(\n",
    "    data_frame=df_plot,\n",
    "    names=\"name\",\n",
    "    ids=\"idx\",\n",
    "    parents=\"parent_idx\",\n",
    "    values=\"cell_count\",\n",
    ")\n",
    "fig.update_traces(root_color=\"lightgrey\")\n",
    "fig.show()\n",
    "# fig.write_html(f\"example_partitioner_lots_basic_plot.html\")"
   ]
  },
  {
   "cell_type": "code",
   "execution_count": null,
   "metadata": {},
   "outputs": [],
   "source": [
    "############## Filter by depth ##############\n",
    "kp = KDQTreePartitioner(count_ubound=25)\n",
    "df = np.random.sample([50, 3])\n",
    "df2 = np.random.sample([50, 3])\n",
    "_ = kp.build(df)\n",
    "_ = kp.fill(df2, \"fill1\")\n",
    "df_plot = kp.to_plotly_dataframe(\"build\", \"fill1\", max_depth=2)\n",
    "df_plot\n",
    "\n",
    "fig = px.treemap(\n",
    "    data_frame=df_plot,\n",
    "    names=\"name\",\n",
    "    ids=\"idx\",\n",
    "    parents=\"parent_idx\",\n",
    "    values=\"cell_count\",\n",
    ")\n",
    "fig.update_traces(root_color=\"lightgrey\")\n",
    "fig.show()\n",
    "# fig.write_html(f\"example_partitioner_lots_basic_plot_depth.html\")"
   ]
  },
  {
   "cell_type": "markdown",
   "metadata": {},
   "source": [
    "## Modifications"
   ]
  },
  {
   "cell_type": "code",
   "execution_count": null,
   "metadata": {},
   "outputs": [],
   "source": [
    "# Count differences between builds can be accessed.\n",
    "# This can be used to modify the display.\n",
    "kp = KDQTreePartitioner(count_ubound=25)\n",
    "df = np.random.sample([50, 3])\n",
    "df2 = np.random.sample([50, 3])\n",
    "_ = kp.build(df)\n",
    "_ = kp.fill(df2, \"fill1\")\n",
    "df_plot = kp.to_plotly_dataframe(\"build\", \"fill1\")"
   ]
  },
  {
   "cell_type": "code",
   "execution_count": null,
   "metadata": {},
   "outputs": [],
   "source": [
    "fig = px.treemap(\n",
    "    data_frame=df_plot,\n",
    "    names=\"name\",\n",
    "    ids=\"idx\",\n",
    "    parents=\"parent_idx\",\n",
    "    color=\"count_diff\",\n",
    ")\n",
    "fig.update_traces(root_color=\"lightgrey\")\n",
    "fig.show()\n",
    "# fig.write_html(f\"example_partitioner_lots_modifications1_count.html\")"
   ]
  },
  {
   "cell_type": "code",
   "execution_count": null,
   "metadata": {},
   "outputs": [],
   "source": [
    "############## Display additional information ##############\n",
    "fig = px.treemap(\n",
    "    data_frame=df_plot,\n",
    "    names=\"name\",\n",
    "    ids=\"idx\",\n",
    "    parents=\"parent_idx\",\n",
    "    color=\"count_diff\",\n",
    ")\n",
    "fig.update_traces(\n",
    "    root_color=\"lightgrey\", textinfo=\"label+current path\"\n",
    ")  # see textinfo in https://plotly.com/python/reference/treemap/\n",
    "fig.show()\n",
    "# fig.write_html(f\"example_partitioner_lots_modifications2_path.html\")"
   ]
  },
  {
   "cell_type": "code",
   "execution_count": null,
   "metadata": {},
   "outputs": [],
   "source": [
    "##### Access the plot and color using the Kulldorff Spatial Scan Statistic (KSS) #####\n",
    "# Higher values of KSS indicate that a given region of the data space has\n",
    "# greater divergence between two \"builds\" of data.\n",
    "fig = px.treemap(\n",
    "    data_frame=df_plot,\n",
    "    names=\"name\",\n",
    "    ids=\"idx\",\n",
    "    parents=\"parent_idx\",\n",
    "    color=\"kss\",\n",
    "    color_continuous_scale=\"blues\",\n",
    ")\n",
    "fig.update_traces(root_color=\"lightgrey\")\n",
    "fig.show()\n",
    "# fig.write_html(f\"example_partitioner_lots_modifications3_kss.html\")"
   ]
  },
  {
   "cell_type": "code",
   "execution_count": null,
   "metadata": {},
   "outputs": [],
   "source": [
    "############# Outline the cells according to the direction of change in counts #############\n",
    "df_plot.loc[df_plot.count_diff < 0, \"count_dir\"] = \"red\"\n",
    "df_plot.loc[df_plot.count_diff == 0, \"count_dir\"] = \"lightgrey\"\n",
    "df_plot.loc[df_plot.count_diff > 0, \"count_dir\"] = \"green\"\n",
    "\n",
    "fig = px.treemap(\n",
    "    data_frame=df_plot,\n",
    "    names=\"name\",\n",
    "    ids=\"idx\",\n",
    "    parents=\"parent_idx\",\n",
    "    color=\"kss\",\n",
    "    color_continuous_scale=\"blues\",\n",
    ")\n",
    "# fig.update_traces(marker_line_width=4, marker_line={'color':df_plot.count_dir}) #alternatively, set outline to match the color\n",
    "fig.update_traces(\n",
    "    insidetextfont={\n",
    "        \"color\": df_plot.count_dir,  # set the text color to same\n",
    "        # 'size':[14, 18, 18, 18, 18] #can set the text size if desired\n",
    "    },\n",
    "    root_color=\"lightgrey\",\n",
    ")\n",
    "fig.show()\n",
    "# fig.write_html(f\"example_partitioner_lots_modifications4_outline.html\")"
   ]
  },
  {
   "cell_type": "markdown",
   "metadata": {},
   "source": [
    "## Alternatives"
   ]
  },
  {
   "cell_type": "code",
   "execution_count": null,
   "metadata": {},
   "outputs": [],
   "source": [
    "# For the most part, sunburst and icicle plots take the same arguments and\n",
    "# behave, though they're not as space-efficient visually.\n",
    "\n",
    "kp = KDQTreePartitioner(count_ubound=25)\n",
    "df = np.random.sample([50, 3])\n",
    "df2 = np.random.sample([50, 3])\n",
    "_ = kp.build(df)\n",
    "_ = kp.fill(df2, \"fill1\")\n",
    "df_plot = kp.to_plotly_dataframe(\"build\", \"fill1\")\n",
    "df_plot\n",
    "\n",
    "df_plot.loc[df_plot.count_diff < 0, \"count_dir\"] = \"red\"\n",
    "df_plot.loc[df_plot.count_diff == 0, \"count_dir\"] = \"lightgrey\"\n",
    "df_plot.loc[df_plot.count_diff > 0, \"count_dir\"] = \"green\""
   ]
  },
  {
   "cell_type": "code",
   "execution_count": null,
   "metadata": {},
   "outputs": [],
   "source": [
    "############# Sunburst Plot #############\n",
    "fig = px.sunburst(\n",
    "    data_frame=df_plot,\n",
    "    names=\"name\",\n",
    "    ids=\"idx\",\n",
    "    parents=\"parent_idx\",\n",
    "    values=\"cell_count\",\n",
    ")\n",
    "# fig.update_traces(marker_line_width=4, marker_line={'color':df_plot.count_dir})\n",
    "fig.update_traces(\n",
    "    insidetextfont={\"color\": df_plot.count_dir},\n",
    "    root_color=\"lightgrey\",\n",
    ")\n",
    "fig.show()\n",
    "# fig.write_html(f\"example_partitioner_lots_alternatives_sunburst.html\")"
   ]
  },
  {
   "cell_type": "code",
   "execution_count": null,
   "metadata": {},
   "outputs": [],
   "source": [
    "############# Icicle Plot #############\n",
    "fig = px.icicle(\n",
    "    data_frame=df_plot,\n",
    "    names=\"name\",\n",
    "    ids=\"idx\",\n",
    "    parents=\"parent_idx\",\n",
    "    values=\"cell_count\",\n",
    ")\n",
    "# fig.update_traces(marker_line_width=4, marker_line={'color':df_plot.count_dir})\n",
    "fig.update_traces(\n",
    "    insidetextfont={\"color\": df_plot.count_dir},\n",
    "    root_color=\"lightgrey\",\n",
    ")\n",
    "fig.show()\n",
    "# fig.write_html(f\"example_partitioner_lots_alternatives_icicle.html\")"
   ]
  }
 ],
 "metadata": {
  "kernelspec": {
   "display_name": "Python 3.10.2 ('molten_env')",
   "language": "python",
   "name": "python3"
  },
  "language_info": {
   "name": "python",
   "version": "3.10.2"
  },
  "orig_nbformat": 4,
  "vscode": {
   "interpreter": {
    "hash": "cebda30e5482c3c83cb9c7c7d8ef1c1d1f67dcf93284b9e88f69b68f560a7bf6"
   }
  }
 },
 "nbformat": 4,
 "nbformat_minor": 2
}
