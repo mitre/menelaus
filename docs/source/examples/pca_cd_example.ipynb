{
 "cells": [
  {
   "cell_type": "markdown",
   "metadata": {},
   "source": [
    "# PCA-Based Change Detection (PCA-CD) Example"
   ]
  },
  {
   "cell_type": "markdown",
   "metadata": {},
   "source": [
    "PCA-CD is a drift detector that transforms the passed data into its principal components, then watches the transformed data for signs of drift by monitoring the KL-divergence via the Page-Hinkley algorithm."
   ]
  },
  {
   "cell_type": "code",
   "execution_count": null,
   "metadata": {},
   "outputs": [],
   "source": [
    "## Imports ##\n",
    "\n",
    "import os\n",
    "import pandas as pd\n",
    "import numpy as np\n",
    "import matplotlib.pyplot as plt\n",
    "from menelaus.data_drift import PCACD"
   ]
  },
  {
   "cell_type": "code",
   "execution_count": null,
   "metadata": {},
   "outputs": [],
   "source": [
    "## Import Data ##\n",
    "\n",
    "# read in Circle dataset\n",
    "df = pd.read_csv(\n",
    "    os.path.join(\n",
    "        \"..\", \"..\", \"..\", \"src\", \"menelaus\", \"tools\", \"artifacts\", \"dataCircleGSev3Sp3Train.csv\"\n",
    "    ),\n",
    "    usecols=[0, 1, 2],\n",
    "    names=[\"var1\", \"var2\", \"y\"],\n",
    ")"
   ]
  },
  {
   "cell_type": "code",
   "execution_count": null,
   "metadata": {},
   "outputs": [],
   "source": [
    "## Setup ##\n",
    "\n",
    "pca_cd = PCACD(window_size=50, divergence_metric=\"intersection\")\n",
    "\n",
    "# set up dataframe to record results\n",
    "status = pd.DataFrame(columns=[\"index\", \"var1\", \"var2\", \"drift_detected\"])\n",
    "\n",
    "# Put together a dataframe of several features, each of which abruptly changes\n",
    "# at index 1000.\n",
    "np.random.seed(1)\n",
    "size = 1000\n",
    "data = pd.concat(\n",
    "    [\n",
    "        pd.DataFrame(\n",
    "            [\n",
    "                np.random.normal(1, 10, size),\n",
    "                np.random.uniform(1, 2, size),\n",
    "                np.random.normal(0, 1, size),\n",
    "            ]\n",
    "        ).T,\n",
    "        pd.DataFrame(\n",
    "            [\n",
    "                np.random.normal(9, 10, size),\n",
    "                np.random.normal(1, 3, size),\n",
    "                np.random.gamma(20, 30, size),\n",
    "            ]\n",
    "        ).T,\n",
    "    ]\n",
    ")\n",
    "\n",
    "# Update the drift detector with each new sample\n",
    "for i in range(len(df)):\n",
    "    pca_cd.update(data.iloc[[i]])\n",
    "    status.loc[i] = [i, data.iloc[i, 0], data.iloc[i, 1], pca_cd.drift_state]"
   ]
  },
  {
   "cell_type": "code",
   "execution_count": null,
   "metadata": {},
   "outputs": [],
   "source": [
    "## Plotting ##\n",
    "\n",
    "# Plot the features and the drift\n",
    "plt.figure(figsize=(20, 6))\n",
    "plt.scatter(status.index, status.var2, label=\"Var 2\")\n",
    "plt.scatter(status.index, status.var1, label=\"Var 1\", alpha=0.5)\n",
    "plt.grid(False, axis=\"x\")\n",
    "plt.xticks(fontsize=16)\n",
    "plt.yticks(fontsize=16)\n",
    "plt.title(\"PCA-CD Test Results\", fontsize=22)\n",
    "plt.ylabel(\"Value\", fontsize=18)\n",
    "plt.xlabel(\"Index\", fontsize=18)\n",
    "ylims = min(status.var1.min(), status.var2.min()), max(\n",
    "    status.var1.max(), status.var1.max()\n",
    ")\n",
    "plt.ylim(ylims)\n",
    "\n",
    "# Draw red lines that indicate where drift was detected\n",
    "plt.vlines(\n",
    "    x=status.loc[status[\"drift_detected\"] == \"drift\"][\"index\"],\n",
    "    ymin=ylims[0],\n",
    "    ymax=ylims[1],\n",
    "    label=\"Drift Detected\",\n",
    "    color=\"red\",\n",
    ")\n",
    "\n",
    "plt.legend()\n",
    "\n",
    "# PCA-CD detects this very abrupt drift within a few samples of its induction.\n",
    "plt.show()\n",
    "# plt.savefig(\"example_PCA_CD.png\")"
   ]
  }
 ],
 "metadata": {
  "language_info": {
   "name": "python"
  },
  "orig_nbformat": 4
 },
 "nbformat": 4,
 "nbformat_minor": 2
}
