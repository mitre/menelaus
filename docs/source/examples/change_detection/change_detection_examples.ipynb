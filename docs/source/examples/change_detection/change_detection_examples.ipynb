{
 "cells": [
  {
   "cell_type": "markdown",
   "metadata": {},
   "source": [
    "# Change Detection Examples"
   ]
  },
  {
   "cell_type": "markdown",
   "metadata": {},
   "source": [
    "These examples show how to set up, run, and produce output from detectors in the \n",
    "change_detection module. The parameters aren't necessarily tuned for best \n",
    "performance for the input data, just notional.\n",
    "\n",
    "Circle is a synthetic data source, where drift occurs in both var1, var2, and the \n",
    "conditional distributions P(y|var1) and P(y|var2). The drift occurs from index \n",
    "1000 to 1250, and affects 66% of the sample.\n",
    "\n",
    "These change detectors can be applied to any given single variable; below, \n",
    "they are applied to var2."
   ]
  },
  {
   "cell_type": "code",
   "execution_count": null,
   "metadata": {},
   "outputs": [],
   "source": [
    "## Imports ##\n",
    "\n",
    "import os\n",
    "import pandas as pd\n",
    "import numpy as np\n",
    "import matplotlib.pyplot as plt\n",
    "from menelaus.change_detection import PageHinkley, CUSUM\n",
    "from menelaus.datasets import fetch_circle_data"
   ]
  },
  {
   "cell_type": "code",
   "execution_count": null,
   "metadata": {},
   "outputs": [],
   "source": [
    "## Import Data ##\n",
    "\n",
    "# read in Circle dataset\n",
    "df = fetch_circle_data()\n",
    "drift_start, drift_end = 1000, 1250"
   ]
  },
  {
   "cell_type": "markdown",
   "metadata": {},
   "source": [
    "## Page-Hinkley (PH) Test"
   ]
  },
  {
   "cell_type": "code",
   "execution_count": null,
   "metadata": {},
   "outputs": [],
   "source": [
    "## Setup ##\n",
    "\n",
    "# Set up one-directional PH test: this will only alarm if the mean of the\n",
    "# monitored variable decreases, and only after seeing 30 or more samples.\n",
    "ph = PageHinkley(delta=0.01, threshold=15, direction=\"negative\", burn_in=30)\n",
    "\n",
    "# setup DF to record results\n",
    "status = pd.DataFrame(columns=[\"index\", \"actual value\", \"drift_detected\"])\n",
    "\n",
    "# iterate through data; feed each sample to the detector, in turn\n",
    "for i in range(len(df)):\n",
    "    obs = df[\"var2\"][i]\n",
    "    ph.update(next_obs=obs, obs_id=i)\n",
    "    status.loc[i] = [i, obs, ph.drift_state]"
   ]
  },
  {
   "cell_type": "code",
   "execution_count": null,
   "metadata": {},
   "outputs": [],
   "source": [
    "## Plotting ##\n",
    "\n",
    "# plot the monitored variable and the status of the detector\n",
    "plt.figure(figsize=(20, 6))\n",
    "plt.scatter(\"index\", \"actual value\", data=status, label=\"Var 2\")\n",
    "plt.grid(False, axis=\"x\")\n",
    "plt.xticks(fontsize=16)\n",
    "plt.yticks(fontsize=16)\n",
    "plt.title(\"PH Test Results\", fontsize=22)\n",
    "plt.ylabel(\"Value\", fontsize=18)\n",
    "plt.xlabel(\"Index\", fontsize=18)\n",
    "ylims = [-0.05, 1.1]\n",
    "plt.ylim(ylims)\n",
    "\n",
    "plt.axvspan(drift_start, drift_end, alpha=0.5, label=\"Drift Induction Window\")\n",
    "\n",
    "plt.vlines(\n",
    "    x=status.loc[status[\"drift_detected\"] == \"drift\"][\"index\"],\n",
    "    ymin=ylims[0],\n",
    "    ymax=ylims[1],\n",
    "    label=\"Drift Detected\",\n",
    "    color=\"red\",\n",
    ")\n",
    "plt.legend()"
   ]
  },
  {
   "cell_type": "markdown",
   "metadata": {},
   "source": [
    "Page-Hinkley alarms shortly after the drift induction window closes, and then makes\n",
    "several apparently erroneous alarms afterwards. The parameters may not be\n",
    "well-chosen for the new regime.\n",
    "Change detection algorithms come out of process control, so a priori\n",
    "characterization of the bounds of the process, not performed here, would not\n",
    "be unreasonable.\n"
   ]
  },
  {
   "cell_type": "code",
   "execution_count": null,
   "metadata": {},
   "outputs": [],
   "source": [
    "plt.show()\n",
    "# plt.savefig(\"example_Page-Hinkley_detections.png\")"
   ]
  },
  {
   "cell_type": "markdown",
   "metadata": {},
   "source": [
    "## Cumulative Sum (CUSUM) Test"
   ]
  },
  {
   "cell_type": "markdown",
   "metadata": {},
   "source": [
    "- This monitors a moving average of var2, starting from an initial estimate of mean\n",
    "and standard deviation.\n",
    "\n",
    "- It will only alarm if 50 or more samples have been observed since\n",
    "initialization/drift.\n",
    "\n",
    "- This will alarm if var2 passes a critical value controlled by delta and\n",
    "threshold in either direction, positive or negative.\n",
    "\n"
   ]
  },
  {
   "cell_type": "code",
   "execution_count": null,
   "metadata": {},
   "outputs": [],
   "source": [
    "## Setup ##\n",
    "cusum = CUSUM(\n",
    "    target=np.mean(df.loc[:drift_start, \"var2\"]),  # mean / std of 'Var 2' pre-drift\n",
    "    sd_hat=np.std(df.loc[:drift_start, \"var2\"]),\n",
    "    burn_in=50,\n",
    "    delta=0.005,\n",
    "    threshold=40,\n",
    "    direction=None,\n",
    ")\n",
    "\n",
    "# setup DF to record results\n",
    "status = pd.DataFrame(columns=[\"index\", \"actual value\", \"drift_detected\"])\n",
    "\n",
    "# iterate through data; feed each sample to the detector, in turn\n",
    "for i in range(len(df)):\n",
    "    obs = df[\"var2\"][i]\n",
    "    cusum.update(obs)\n",
    "    status.loc[i] = [i, obs, cusum.drift_state]"
   ]
  },
  {
   "cell_type": "code",
   "execution_count": null,
   "metadata": {},
   "outputs": [],
   "source": [
    "## Plotting ##\n",
    "\n",
    "# plot the monitored variable and the status of the detector\n",
    "plt.figure(figsize=(20, 6))\n",
    "plt.scatter(\"index\", \"actual value\", data=status, label=\"Var 2\")\n",
    "plt.grid(False, axis=\"x\")\n",
    "plt.xticks(fontsize=16)\n",
    "plt.yticks(fontsize=16)\n",
    "plt.title(\"CUSUM Test Results\", fontsize=22)\n",
    "plt.ylabel(\"Value\", fontsize=18)\n",
    "plt.xlabel(\"Index\", fontsize=18)\n",
    "ylims = [-0.05, 1.1]\n",
    "plt.ylim(ylims)\n",
    "\n",
    "plt.axvspan(drift_start, drift_end, alpha=0.5, label=\"Drift Induction Window\")\n",
    "\n",
    "plt.vlines(\n",
    "    x=status.loc[status[\"drift_detected\"] == \"drift\"][\"index\"],\n",
    "    ymin=ylims[0],\n",
    "    ymax=ylims[1],\n",
    "    label=\"Drift Detected\",\n",
    "    color=\"red\",\n",
    ")\n",
    "plt.legend()"
   ]
  },
  {
   "cell_type": "markdown",
   "metadata": {},
   "source": [
    "CUSUM alarms several times within the drift induction window, roughly halfway\n",
    "through. After the alarm is reset, change is detected a few more times,\n",
    "including an apparently erroneous detection after the drift induction window\n",
    "is passed. The current threshold settings may then be too sensitive for the\n",
    "new regime.\n"
   ]
  },
  {
   "cell_type": "code",
   "execution_count": null,
   "metadata": {},
   "outputs": [],
   "source": [
    "\n",
    "plt.show()\n",
    "# plt.savefig(\"example_CUSUM_detections.png\")"
   ]
  }
 ],
 "metadata": {
  "kernelspec": {
   "display_name": "Python 3.10.2 ('molten_env')",
   "language": "python",
   "name": "python3"
  },
  "language_info": {
   "codemirror_mode": {
    "name": "ipython",
    "version": 3
   },
   "file_extension": ".py",
   "mimetype": "text/x-python",
   "name": "python",
   "nbconvert_exporter": "python",
   "pygments_lexer": "ipython3",
   "version": "3.10.2"
  },
  "orig_nbformat": 4,
  "vscode": {
   "interpreter": {
    "hash": "cebda30e5482c3c83cb9c7c7d8ef1c1d1f67dcf93284b9e88f69b68f560a7bf6"
   }
  }
 },
 "nbformat": 4,
 "nbformat_minor": 2
}
