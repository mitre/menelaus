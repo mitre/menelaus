{
 "cells": [
  {
   "cell_type": "markdown",
   "metadata": {},
   "source": [
    "#### Overview \n",
    "\n",
    "This notebook is a work in progress. Eventually, the contents will demonstrate an NLP-based drift detection algorithm in action, but until the feature is developed, it shows the loading and use of two datasets to be used in the examples:\n",
    "\n",
    "- Civil Comments dataset: online comments to be used in toxicity classification problems \n",
    "- Amazon Reviews dataset: amazon reviews to be used in a variety of NLP problems\n",
    "\n",
    "The data is accessed by using the `wilds` library, which contains several such datasets and wraps them in an API as shown below. \n",
    "\n",
    "#### Imports"
   ]
  },
  {
   "cell_type": "code",
   "execution_count": 4,
   "metadata": {},
   "outputs": [],
   "source": [
    "from wilds import get_dataset"
   ]
  },
  {
   "cell_type": "markdown",
   "metadata": {},
   "source": [
    "#### Load Data\n",
    "\n",
    "Note that initially, the large data files need to be downloaded first. Later examples may assume the data is already stored to disk."
   ]
  },
  {
   "cell_type": "code",
   "execution_count": 7,
   "metadata": {},
   "outputs": [
    {
     "name": "stdout",
     "output_type": "stream",
     "text": [
      "Downloading dataset to data\\amazon_v2.1...\n",
      "You can also download the dataset manually at https://wilds.stanford.edu/downloads.\n",
      "Downloading https://worksheets.codalab.org/rest/bundles/0xe3ed909786d34ee79d430d065582aa29/contents/blob/ to data\\amazon_v2.1\\archive.tar.gz\n"
     ]
    },
    {
     "name": "stderr",
     "output_type": "stream",
     "text": [
      "100%|█████████▉| 1988272128/1989805589 [06:36<00:00, 5019175.79Byte/s]\n"
     ]
    },
    {
     "name": "stdout",
     "output_type": "stream",
     "text": [
      "Extracting data\\amazon_v2.1\\archive.tar.gz to data\\amazon_v2.1\n",
      "\n",
      "It took 7.57 minutes to download and uncompress the dataset.\n",
      "\n"
     ]
    },
    {
     "data": {
      "text/plain": [
       "<wilds.datasets.amazon_dataset.AmazonDataset at 0x1901b5c8be0>"
      ]
     },
     "execution_count": 7,
     "metadata": {},
     "output_type": "execute_result"
    }
   ],
   "source": [
    "# amazon reviews\n",
    "dataset_amazon = get_dataset(dataset=\"amazon\", download=True)\n",
    "dataset_amazon"
   ]
  },
  {
   "cell_type": "code",
   "execution_count": 8,
   "metadata": {},
   "outputs": [
    {
     "name": "stdout",
     "output_type": "stream",
     "text": [
      "Downloading dataset to data\\civilcomments_v1.0...\n",
      "You can also download the dataset manually at https://wilds.stanford.edu/downloads.\n",
      "Downloading https://worksheets.codalab.org/rest/bundles/0x8cd3de0634154aeaad2ee6eb96723c6e/contents/blob/ to data\\civilcomments_v1.0\\archive.tar.gz\n"
     ]
    },
    {
     "name": "stderr",
     "output_type": "stream",
     "text": [
      "90914816Byte [00:18, 4889856.78Byte/s]                             \n"
     ]
    },
    {
     "name": "stdout",
     "output_type": "stream",
     "text": [
      "Extracting data\\civilcomments_v1.0\\archive.tar.gz to data\\civilcomments_v1.0\n",
      "\n",
      "It took 0.35 minutes to download and uncompress the dataset.\n",
      "\n"
     ]
    },
    {
     "data": {
      "text/plain": [
       "<wilds.datasets.civilcomments_dataset.CivilCommentsDataset at 0x19061dd7130>"
      ]
     },
     "execution_count": 8,
     "metadata": {},
     "output_type": "execute_result"
    }
   ],
   "source": [
    "# civil comments\n",
    "dataset_civil = get_dataset(dataset=\"civilcomments\", download=True)\n",
    "dataset_civil"
   ]
  },
  {
   "cell_type": "code",
   "execution_count": null,
   "metadata": {},
   "outputs": [],
   "source": []
  }
 ],
 "metadata": {
  "kernelspec": {
   "display_name": "venv",
   "language": "python",
   "name": "python3"
  },
  "language_info": {
   "codemirror_mode": {
    "name": "ipython",
    "version": 3
   },
   "file_extension": ".py",
   "mimetype": "text/x-python",
   "name": "python",
   "nbconvert_exporter": "python",
   "pygments_lexer": "ipython3",
   "version": "3.10.2"
  },
  "orig_nbformat": 4
 },
 "nbformat": 4,
 "nbformat_minor": 2
}
