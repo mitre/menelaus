{
 "cells": [
  {
   "cell_type": "code",
   "execution_count": null,
   "metadata": {},
   "outputs": [],
   "source": [
    "from menelaus.data_drift import KdqTreeStreaming\n",
    "from menelaus.ensemble import StreamingEnsemble\n",
    "\n",
    "k1 = KdqTreeStreaming(window_size=10, bootstrap_samples=1)\n",
    "k2 = KdqTreeStreaming(window_size=10, bootstrap_samples=1)\n",
    "k3 = KdqTreeStreaming(window_size=10, bootstrap_samples=1)\n",
    "\n",
    "detectors = {'k1': k1, 'k2': k2, 'k3': k3}\n",
    "evaluator = 'simple-majority'\n",
    "columns = {'k1': , 'k2': , 'k3': }\n",
    "\n",
    "s = StreamingEnsemble(detectors, evaluator, columns)\n"
   ]
  }
 ],
 "metadata": {
  "language_info": {
   "name": "python"
  },
  "orig_nbformat": 4
 },
 "nbformat": 4,
 "nbformat_minor": 2
}
