{
 "cells": [
  {
   "cell_type": "code",
   "execution_count": 20,
   "metadata": {},
   "outputs": [
    {
     "name": "stdout",
     "output_type": "stream",
     "text": [
      "At data point 0 ensemble state is None\n",
      "At data point 5 ensemble state is None\n",
      "At data point 10 ensemble state is None\n",
      "At data point 15 ensemble state is None\n",
      "At data point 20 ensemble state is None\n"
     ]
    }
   ],
   "source": [
    "import numpy as np\n",
    "\n",
    "from menelaus.concept_drift import DDM, EDDM, LinearFourRates, MD3, STEPD, ADWINOutcome\n",
    "from menelaus.data_drift import KdqTreeStreaming, PCACD\n",
    "from menelaus.ensemble import StreamingEnsemble\n",
    "from menelaus.datasets import fetch_rainfall_data\n",
    "\n",
    "df = fetch_rainfall_data()[['temperature', 'dew_point', 'sea_level_pressure']]\n",
    "y_trues = fetch_rainfall_data().rain\n",
    "\n",
    "k1 = KdqTreeStreaming(window_size=10, bootstrap_samples=1)      # only works with >1 X features\n",
    "p1 = PCACD(window_size=10, sample_period=0.1)                   # have to set step to integer\n",
    "\n",
    "d1 = DDM(n_threshold=10)                                        \n",
    "e1 = EDDM(n_threshold=10)\n",
    "l1 = LinearFourRates(burn_in=2, num_mc=1)\n",
    "m1 = MD3                                                        # TODO - no idea how to include this one\n",
    "s1 = STEPD(window_size=10)\n",
    "a1 = ADWINOutcome()                                             # default threshold sizes are too large\n",
    "\n",
    "detectors = {\n",
    "    'k1': k1, 'p1': p1,                                         # data drift\n",
    "    'd1': d1, 'e1': e1, 'l1': l1, 's1': s1, 'a1': a1,           # concept drift\n",
    "                                                                # change detection\n",
    "}\n",
    "\n",
    "s = StreamingEnsemble(detectors, 'simple-majority')\n",
    "for i in range(21):\n",
    "    s.update(X=df.iloc[[i]], y_true=y_trues[i], y_pred=np.random.randint(0,2))\n",
    "    if i% 5 == 0:\n",
    "        print(f\"At data point {i} ensemble state is {s.drift_state}\")"
   ]
  },
  {
   "cell_type": "code",
   "execution_count": null,
   "metadata": {},
   "outputs": [],
   "source": []
  },
  {
   "cell_type": "code",
   "execution_count": null,
   "metadata": {},
   "outputs": [],
   "source": []
  }
 ],
 "metadata": {
  "kernelspec": {
   "display_name": "Python 3.10.6 ('venv': venv)",
   "language": "python",
   "name": "python3"
  },
  "language_info": {
   "codemirror_mode": {
    "name": "ipython",
    "version": 3
   },
   "file_extension": ".py",
   "mimetype": "text/x-python",
   "name": "python",
   "nbconvert_exporter": "python",
   "pygments_lexer": "ipython3",
   "version": "3.10.6"
  },
  "orig_nbformat": 4,
  "vscode": {
   "interpreter": {
    "hash": "e333d0cd20283ee96f449771faa0e76b10d6c7d969d83355cc002b346ae878c6"
   }
  }
 },
 "nbformat": 4,
 "nbformat_minor": 2
}
