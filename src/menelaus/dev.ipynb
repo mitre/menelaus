{
 "cells": [
  {
   "cell_type": "code",
   "execution_count": 1,
   "metadata": {},
   "outputs": [],
   "source": [
    "from menelaus.data_drift import CDBD, HDDDM, KdqTreeBatch\n",
    "from menelaus.ensemble import BatchEnsemble\n",
    "from menelaus.datasets import make_example_batch_data\n",
    "import pandas as pd"
   ]
  },
  {
   "cell_type": "code",
   "execution_count": 2,
   "metadata": {},
   "outputs": [],
   "source": [
    "data = make_example_batch_data()\n",
    "first_batch = pd.DataFrame(data[data.year == 2007])\n",
    "test_batches = data[data.year.apply(lambda x: True if x in [2008, 2009, 2010, 2011, 2012] else False)]\n",
    "detectors = {\n",
    "    'cdbd': CDBD(),\n",
    "    'kdq': KdqTreeBatch(bootstrap_samples=2),\n",
    "    'hdddm': HDDDM(),\n",
    "}\n",
    "constraints = {\n",
    "    'cdbd': ['confidence'],\n",
    "    'kdq': [c for c in 'abcdefghij'], \n",
    "    'hdddm': data.columns[1:-2]\n",
    "}"
   ]
  },
  {
   "cell_type": "code",
   "execution_count": 3,
   "metadata": {},
   "outputs": [
    {
     "name": "stdout",
     "output_type": "stream",
     "text": [
      "For 2008: None\n",
      "For 2009: drift\n",
      "For 2010: drift\n",
      "For 2011: None\n",
      "For 2012: drift\n"
     ]
    }
   ],
   "source": [
    "ensemble = BatchEnsemble(detectors, 'simple-majority', constraints)\n",
    "ensemble.set_reference(X=first_batch)\n",
    "for year, subset in test_batches.groupby('year'):\n",
    "    ensemble.update(X=subset)\n",
    "    print(f\"For {year}: {ensemble.drift_state}\")"
   ]
  },
  {
   "cell_type": "code",
   "execution_count": null,
   "metadata": {},
   "outputs": [],
   "source": []
  }
 ],
 "metadata": {
  "kernelspec": {
   "display_name": "Python 3.10.5 ('venv': venv)",
   "language": "python",
   "name": "python3"
  },
  "language_info": {
   "codemirror_mode": {
    "name": "ipython",
    "version": 3
   },
   "file_extension": ".py",
   "mimetype": "text/x-python",
   "name": "python",
   "nbconvert_exporter": "python",
   "pygments_lexer": "ipython3",
   "version": "3.10.5"
  },
  "orig_nbformat": 4,
  "vscode": {
   "interpreter": {
    "hash": "e333d0cd20283ee96f449771faa0e76b10d6c7d969d83355cc002b346ae878c6"
   }
  }
 },
 "nbformat": 4,
 "nbformat_minor": 2
}
