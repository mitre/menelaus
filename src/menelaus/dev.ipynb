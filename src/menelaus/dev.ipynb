{
 "cells": [
  {
   "cell_type": "code",
   "execution_count": 7,
   "metadata": {},
   "outputs": [],
   "source": [
    "from menelaus.ensemble import StreamingEnsemble\n",
    "from menelaus.ensemble import SimpleMajorityEvaluator\n",
    "from menelaus.ensemble import MinimumApprovalEvaluator, ConfirmedApprovalEvaluator"
   ]
  },
  {
   "cell_type": "code",
   "execution_count": null,
   "metadata": {},
   "outputs": [],
   "source": [
    "se = StreamingEnsemble([], evaluator=MinimumApprovalEvaluator())\n",
    "\n",
    "for i in data:\n",
    "    se.update()\n",
    "        # this calls se.evaluate()\n",
    "            # this calls evaluator.call()\n",
    "                # this can check whether the burn in is correct"
   ]
  },
  {
   "cell_type": "code",
   "execution_count": 7,
   "metadata": {},
   "outputs": [
    {
     "name": "stdout",
     "output_type": "stream",
     "text": [
      "4\n"
     ]
    }
   ],
   "source": [
    "list({1: 2, 2: 4}.values())\n",
    "\n",
    "def foo(x):\n",
    "    print(x[-1])\n",
    "\n",
    "foo(list({1: 2, 3: 4}.values()))"
   ]
  },
  {
   "cell_type": "code",
   "execution_count": null,
   "metadata": {},
   "outputs": [],
   "source": []
  }
 ],
 "metadata": {
  "kernelspec": {
   "display_name": "Python 3.10.6 ('venv': venv)",
   "language": "python",
   "name": "python3"
  },
  "language_info": {
   "codemirror_mode": {
    "name": "ipython",
    "version": 3
   },
   "file_extension": ".py",
   "mimetype": "text/x-python",
   "name": "python",
   "nbconvert_exporter": "python",
   "pygments_lexer": "ipython3",
   "version": "3.10.7"
  },
  "orig_nbformat": 4,
  "vscode": {
   "interpreter": {
    "hash": "e333d0cd20283ee96f449771faa0e76b10d6c7d969d83355cc002b346ae878c6"
   }
  }
 },
 "nbformat": 4,
 "nbformat_minor": 2
}
