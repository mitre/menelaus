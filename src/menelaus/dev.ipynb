{
 "cells": [
  {
   "cell_type": "code",
   "execution_count": 35,
   "metadata": {},
   "outputs": [],
   "source": [
    "from menelaus.drift_detector import BatchDetector\n",
    "from menelaus.data_drift import CDBD, HDDDM, KdqTreeBatch\n",
    "from menelaus.datasets import make_example_batch_data\n",
    "import pandas as pd\n",
    "import numpy as np"
   ]
  },
  {
   "cell_type": "code",
   "execution_count": 83,
   "metadata": {},
   "outputs": [],
   "source": [
    "evaluators = {'eval_scheme_1': lambda x: print(x)}\n",
    "\n",
    "class Ensembler():\n",
    "    def __init__(self, detectors: dict, evaluator: str, constraints: dict = None):\n",
    "        self.detectors = detectors.copy()\n",
    "        self.evaluator = evaluators[evaluator]\n",
    "        self.constraints = constraints\n",
    "\n",
    "    def set_reference(self, X, y_true, y_pred):\n",
    "        for det_key in self.detectors:\n",
    "            # XXX - Cannot re-define X = constrain(), else external reference is modified\n",
    "            #       Need to see why this is happening and where to put e.g. a copy() stmt.\n",
    "            X_constrained = self.constrain(X, det_key)\n",
    "            self.detectors[det_key].set_reference(X=X_constrained, y_true=y_true, y_pred=y_pred)\n",
    "\n",
    "    def update(self, X, y_true=None, y_pred=None):\n",
    "        for det_key in self.detectors:\n",
    "            # XXX - Cannot re-define X = constrain(), else external reference is modified\n",
    "            #       Need to see why this is happening and where to put e.g. a copy() stmt.\n",
    "            X_constrained = self.constrain(X, det_key)\n",
    "            self.detectors[det_key].update(X=X_constrained, y_true=y_true, y_pred=y_pred)\n",
    "        self.evaluate()\n",
    "\n",
    "    def constrain(self, data, det_key: str):\n",
    "        # TODO - can y_true, y_pred be supported in this pattern?\n",
    "        # TODO - this allows for list manipulation of PD columns\n",
    "        #           will need to think about cases where numpy arrays\n",
    "        #           are mixed in\n",
    "        ret = data.copy()\n",
    "        if self.constraints:\n",
    "            constraint = self.constraints[det_key]\n",
    "            ret = data[constraint]\n",
    "        return ret\n",
    "\n",
    "    def evaluate(self):\n",
    "        self.drift_state = self.evaluator(self.detectors.values())\n",
    "\n",
    "    def reset(self):\n",
    "        for det_key in self.detectors:\n",
    "            self.detectors[det_key].reset()\n",
    "\n",
    "\n",
    "class BatchEnsembler(BatchDetector, Ensembler):\n",
    "    def __init__(self, detectors: dict, evaluator: str, constraints: dict = None):\n",
    "        BatchDetector.__init__(self)\n",
    "        Ensembler.__init__(self, detectors, evaluator, constraints)\n",
    "\n",
    "    def update(self, X, y_true=None, y_pred=None):\n",
    "        Ensembler.update(self, X=X, y_true=y_true, y_pred=y_pred)\n",
    "        BatchDetector.update(self, X=X, y_true=y_true, y_pred=y_pred)\n",
    "\n",
    "    def reset(self):\n",
    "        Ensembler.reset(self)\n",
    "        BatchDetector.reset(self)\n",
    "\n",
    "    def set_reference(self, X, y_true=None, y_pred=None):\n",
    "        Ensembler.set_reference(self, X=X, y_true=y_true, y_pred=y_pred)"
   ]
  },
  {
   "cell_type": "code",
   "execution_count": 74,
   "metadata": {},
   "outputs": [],
   "source": [
    "data = make_example_batch_data()\n",
    "first_batch = pd.DataFrame(data[data.year == 2007])\n",
    "test_batches = data[data.year.apply(lambda x: True if x in [2008, 2009] else False)]\n",
    "detectors = {\n",
    "    'cdbd': CDBD(),\n",
    "    'kdq': KdqTreeBatch(bootstrap_samples=2),\n",
    "    'hdddm': HDDDM(),\n",
    "}\n",
    "constraints = {\n",
    "    'cdbd': ['confidence'],\n",
    "    'kdq': [c for c in 'abcdefghij'], \n",
    "    'hdddm': data.columns[1:-2]\n",
    "}"
   ]
  },
  {
   "cell_type": "code",
   "execution_count": 84,
   "metadata": {},
   "outputs": [
    {
     "name": "stdout",
     "output_type": "stream",
     "text": [
      "dict_values([<menelaus.data_drift.cdbd.CDBD object at 0x000001DBA4E03400>, <menelaus.data_drift.kdq_tree.KdqTreeBatch object at 0x000001DBA4E03940>, <menelaus.data_drift.hdddm.HDDDM object at 0x000001DBA4E02E60>])\n",
      "For 2008: None\n",
      "dict_values([<menelaus.data_drift.cdbd.CDBD object at 0x000001DBA4E03400>, <menelaus.data_drift.kdq_tree.KdqTreeBatch object at 0x000001DBA4E03940>, <menelaus.data_drift.hdddm.HDDDM object at 0x000001DBA4E02E60>])\n",
      "For 2009: None\n"
     ]
    }
   ],
   "source": [
    "ensemble = BatchEnsembler(detectors, 'eval_scheme_1', constraints)\n",
    "ensemble.set_reference(X=first_batch)\n",
    "for year, subset in test_batches.groupby('year'):\n",
    "    ensemble.update(X=subset)\n",
    "    print(f\"For {year}: {ensemble.drift_state}\")"
   ]
  },
  {
   "cell_type": "code",
   "execution_count": null,
   "metadata": {},
   "outputs": [],
   "source": []
  }
 ],
 "metadata": {
  "kernelspec": {
   "display_name": "Python 3.10.5 ('venv': venv)",
   "language": "python",
   "name": "python3"
  },
  "language_info": {
   "codemirror_mode": {
    "name": "ipython",
    "version": 3
   },
   "file_extension": ".py",
   "mimetype": "text/x-python",
   "name": "python",
   "nbconvert_exporter": "python",
   "pygments_lexer": "ipython3",
   "version": "3.10.5"
  },
  "orig_nbformat": 4,
  "vscode": {
   "interpreter": {
    "hash": "e333d0cd20283ee96f449771faa0e76b10d6c7d969d83355cc002b346ae878c6"
   }
  }
 },
 "nbformat": 4,
 "nbformat_minor": 2
}
