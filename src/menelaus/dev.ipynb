{
 "cells": [
  {
   "cell_type": "code",
   "execution_count": 1,
   "metadata": {},
   "outputs": [],
   "source": [
    "from menelaus.drift_detector import BatchDetector, Ensembler\n",
    "from typing import List\n",
    "from toolz import pipe"
   ]
  },
  {
   "cell_type": "code",
   "execution_count": 3,
   "metadata": {},
   "outputs": [],
   "source": [
    "class BatchEnsembler(BatchDetector, Ensembler):\n",
    "    def __init__(self, detectors: dict, pre_processors: List, post_processors: List):\n",
    "        BatchDetector.__init__(self)\n",
    "        Ensembler.__init__(self, detectors, pre_processors, post_processors)\n",
    "\n",
    "    def update(self, X, y_true, y_pred):\n",
    "        self = pipe(self, *self.pre_processors)     # how does it use extra args? read docs\n",
    "\n",
    "        for det_key in self.detectors:\n",
    "            det = self.detectors[det_key]\n",
    "            det.update(X, y_true, y_pred)\n",
    "            # post processing to collect, for ... post_processors <- this is weird\n",
    "\n",
    "        self = pipe(self, *self.post_processors)    # how can we move common logic into Ensembler\n",
    "        return self                                 #   while knowing exactly what happens when\n",
    "                                                    #   the parent update called from here says\n",
    "                                                    #   self = ...\n",
    "\n",
    "    def reset(self):\n",
    "        BatchDetector.reset(self)\n",
    "\n",
    "    def set_reference(self):\n",
    "        # really not sure what to do here\n",
    "        pass\n",
    "\n",
    "\n",
    "# I think \"operator\" functions should go in class files in detector code\n",
    "be = BatchEnsembler({}, [], [])\n",
    "be = be.update(0,0,0)"
   ]
  },
  {
   "cell_type": "code",
   "execution_count": null,
   "metadata": {},
   "outputs": [],
   "source": []
  }
 ],
 "metadata": {
  "kernelspec": {
   "display_name": "Python 3.10.5 ('venv': venv)",
   "language": "python",
   "name": "python3"
  },
  "language_info": {
   "codemirror_mode": {
    "name": "ipython",
    "version": 3
   },
   "file_extension": ".py",
   "mimetype": "text/x-python",
   "name": "python",
   "nbconvert_exporter": "python",
   "pygments_lexer": "ipython3",
   "version": "3.10.5"
  },
  "orig_nbformat": 4,
  "vscode": {
   "interpreter": {
    "hash": "e333d0cd20283ee96f449771faa0e76b10d6c7d969d83355cc002b346ae878c6"
   }
  }
 },
 "nbformat": 4,
 "nbformat_minor": 2
}
